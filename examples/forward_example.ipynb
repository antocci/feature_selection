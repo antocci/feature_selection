{
 "cells": [
  {
   "cell_type": "code",
   "execution_count": 3,
   "id": "29763e01-039d-4f3e-b7b6-032e4bd3667c",
   "metadata": {},
   "outputs": [],
   "source": [
    "import pandas as pd\n",
    "from IPython.core.display_functions import display\n",
    "from catboost import CatBoostClassifier\n",
    "from matplotlib import pyplot as plt\n",
    "from sklearn import clone\n",
    "from sklearn.metrics import roc_auc_score\n",
    "from tqdm import tqdm\n",
    "import seaborn as sns\n",
    "from sklearn.datasets import make_classification\n",
    "from sklearn.model_selection import train_test_split"
   ]
  },
  {
   "cell_type": "code",
   "execution_count": 4,
   "id": "8470cd08-280c-4e78-97b6-3a6d36b724bd",
   "metadata": {},
   "outputs": [],
   "source": [
    "# Create a synthetic dataset\n",
    "X, y = make_classification(\n",
    "    n_samples=1000,  # Number of samples\n",
    "    n_features=10,    # Number of features\n",
    "    n_informative=2, # Number of informative features\n",
    "    n_classes=2,     # Number of classes (binary classification)\n",
    "    n_clusters_per_class=1,  # Number of clusters per class\n",
    "    random_state=42  # Seed for reproducibility\n",
    ")\n",
    "\n",
    "# Create a DataFrame with feature names\n",
    "feature_names = [f\"feature_{i}\" for i in range(X.shape[1])]\n",
    "df = pd.DataFrame(X, columns=feature_names)\n",
    "\n",
    "# Add the target variable to the DataFrame\n",
    "df['target'] = y\n"
   ]
  },
  {
   "cell_type": "code",
   "execution_count": 5,
   "id": "bca2be1c-2340-401b-9b3a-239833fa6659",
   "metadata": {},
   "outputs": [
    {
     "data": {
      "text/html": [
       "<div>\n",
       "<style scoped>\n",
       "    .dataframe tbody tr th:only-of-type {\n",
       "        vertical-align: middle;\n",
       "    }\n",
       "\n",
       "    .dataframe tbody tr th {\n",
       "        vertical-align: top;\n",
       "    }\n",
       "\n",
       "    .dataframe thead th {\n",
       "        text-align: right;\n",
       "    }\n",
       "</style>\n",
       "<table border=\"1\" class=\"dataframe\">\n",
       "  <thead>\n",
       "    <tr style=\"text-align: right;\">\n",
       "      <th></th>\n",
       "      <th>feature_0</th>\n",
       "      <th>feature_1</th>\n",
       "      <th>feature_2</th>\n",
       "      <th>feature_3</th>\n",
       "      <th>feature_4</th>\n",
       "      <th>feature_5</th>\n",
       "      <th>feature_6</th>\n",
       "      <th>feature_7</th>\n",
       "      <th>feature_8</th>\n",
       "      <th>feature_9</th>\n",
       "      <th>target</th>\n",
       "    </tr>\n",
       "  </thead>\n",
       "  <tbody>\n",
       "    <tr>\n",
       "      <th>0</th>\n",
       "      <td>1.376053</td>\n",
       "      <td>-1.607661</td>\n",
       "      <td>-0.835143</td>\n",
       "      <td>-0.319848</td>\n",
       "      <td>-0.936875</td>\n",
       "      <td>1.603393</td>\n",
       "      <td>0.568754</td>\n",
       "      <td>0.151758</td>\n",
       "      <td>0.184741</td>\n",
       "      <td>2.089539</td>\n",
       "      <td>0</td>\n",
       "    </tr>\n",
       "    <tr>\n",
       "      <th>1</th>\n",
       "      <td>-0.005795</td>\n",
       "      <td>1.671348</td>\n",
       "      <td>-0.176134</td>\n",
       "      <td>-0.893746</td>\n",
       "      <td>1.616256</td>\n",
       "      <td>-1.371212</td>\n",
       "      <td>-0.000382</td>\n",
       "      <td>-0.387965</td>\n",
       "      <td>-0.901376</td>\n",
       "      <td>-2.899514</td>\n",
       "      <td>1</td>\n",
       "    </tr>\n",
       "  </tbody>\n",
       "</table>\n",
       "</div>"
      ],
      "text/plain": [
       "   feature_0  feature_1  feature_2  feature_3  feature_4  feature_5  \\\n",
       "0   1.376053  -1.607661  -0.835143  -0.319848  -0.936875   1.603393   \n",
       "1  -0.005795   1.671348  -0.176134  -0.893746   1.616256  -1.371212   \n",
       "\n",
       "   feature_6  feature_7  feature_8  feature_9  target  \n",
       "0   0.568754   0.151758   0.184741   2.089539       0  \n",
       "1  -0.000382  -0.387965  -0.901376  -2.899514       1  "
      ]
     },
     "execution_count": 5,
     "metadata": {},
     "output_type": "execute_result"
    }
   ],
   "source": [
    "df.head(2)"
   ]
  },
  {
   "cell_type": "code",
   "execution_count": 6,
   "id": "4464ffd2-330b-4ab9-a88c-45c860b25aa8",
   "metadata": {},
   "outputs": [],
   "source": [
    "train, valid = train_test_split(df, test_size=0.33, random_state=42)"
   ]
  },
  {
   "cell_type": "code",
   "execution_count": 12,
   "id": "c0db57d3-ee05-4e5e-ac02-6d01ffd50d45",
   "metadata": {},
   "outputs": [],
   "source": [
    "def forward_selection(train, valid, features, cat_features, target):\n",
    "    stats = []\n",
    "\n",
    "    picked_features = []\n",
    "    best_ginis = []\n",
    "    # forward selection\n",
    "    for iteration in tqdm(range(len(features))):\n",
    "        print('Iteration number', iteration)\n",
    "        best_gini = None\n",
    "        best_feature = None\n",
    "        stat = {'iteration': iteration}\n",
    "        for col in features:\n",
    "            print('Feature ', col)\n",
    "            if col in picked_features:\n",
    "                continue\n",
    "\n",
    "            X_train = train[list(picked_features) + [col]]\n",
    "            X_valid = valid[list(picked_features) + [col]]\n",
    "\n",
    "            model = CatBoostClassifier(verbose=0, eval_metric='AUC', early_stopping_rounds=60, random_state=42,\n",
    "                                       cat_features=list(set(cat_features) & set(X_train.columns)))\n",
    "            model.fit(X_train, train[target], eval_set=(X_valid, valid[target]))\n",
    "            valid_preds = model.predict_proba(X_valid)[:, 1]\n",
    "            valid_gini = 2 * roc_auc_score(valid[target], valid_preds) - 1\n",
    "\n",
    "            stat[col] = valid_gini\n",
    "\n",
    "            if best_gini is None or best_gini < valid_gini:\n",
    "                print('Best gini < val gini ', best_gini, valid_gini)\n",
    "                best_gini = valid_gini\n",
    "                best_feature = col\n",
    "\n",
    "        stats.append(stat)\n",
    "\n",
    "        if best_gini:\n",
    "            picked_features.append(best_feature)\n",
    "            best_ginis.append(best_gini)\n",
    "            print('*'*10)\n",
    "            print('Best_features:', picked_features)\n",
    "            print('*'*10)\n",
    "\n",
    "    stat_2 = pd.DataFrame(stats).T\n",
    "    stat_2['cnt_nans'] = stat_2.isna().sum(axis=1).values\n",
    "    stat_2 = stat_2.sort_values('cnt_nans', ascending=False).drop(columns=['cnt_nans'], index=['iteration'])\n",
    "\n",
    "    display((stat_2 * 100).round(1))\n",
    "\n",
    "    stat_1 = pd.DataFrame({'names': picked_features, 'ginis': best_ginis})\n",
    "\n",
    "    plt.figure(figsize=(16, 9))\n",
    "    sns.lineplot(data=stat_1, x='names', y='ginis')\n",
    "    plt.xticks(rotation=90)\n",
    "    plt.show()\n",
    "\n",
    "    num_features = stat_1['ginis'].argmax() + 1\n",
    "    best_gini = stat_1['ginis'].max()\n",
    "\n",
    "    best_features = stat_1['names'].iloc[:num_features]\n",
    "\n",
    "    print('---' * 5, 'info', '---' * 5, sep='')\n",
    "    print('Best ginis:', best_gini)\n",
    "    print('Num features:', len(best_features))\n",
    "    print('Best features:', ' '.join(best_features))\n",
    "    print('---' * 12)\n",
    "\n",
    "#     best_model = clone(model)\n",
    "#     best_model.fit(train[sorted(best_features)], train[target],\n",
    "#                    cat_features=list(set(cat_features) & set(best_features)))\n",
    "\n",
    "    return stat_1, stat_2\n"
   ]
  },
  {
   "cell_type": "code",
   "execution_count": null,
   "id": "41bfef48-6435-4660-9cd1-eb6d75366280",
   "metadata": {},
   "outputs": [
    {
     "name": "stderr",
     "output_type": "stream",
     "text": [
      "  0%|                                                                                           | 0/10 [00:00<?, ?it/s]"
     ]
    },
    {
     "name": "stdout",
     "output_type": "stream",
     "text": [
      "Iteration number 0\n",
      "Feature  feature_0\n",
      "Best gini < val gini  None 0.16354350382128158\n",
      "Feature  feature_1\n",
      "Feature  feature_2\n",
      "Feature  feature_3\n",
      "Feature  feature_4\n",
      "Best gini < val gini  0.16354350382128158 0.9304453262786594\n",
      "Feature  feature_5\n",
      "Best gini < val gini  0.9304453262786594 0.9326131687242796\n",
      "Feature  feature_6\n",
      "Feature  feature_7\n",
      "Feature  feature_8\n"
     ]
    },
    {
     "name": "stderr",
     "output_type": "stream",
     "text": [
      " 10%|████████▎                                                                          | 1/10 [00:02<00:18,  2.09s/it]"
     ]
    },
    {
     "name": "stdout",
     "output_type": "stream",
     "text": [
      "Feature  feature_9\n",
      "**********\n",
      "Best_features: ['feature_5']\n",
      "**********\n",
      "Iteration number 1\n",
      "Feature  feature_0\n",
      "Best gini < val gini  None 0.9792401528512638\n",
      "Feature  feature_1\n",
      "Feature  feature_2\n",
      "Feature  feature_3\n",
      "Feature  feature_4\n",
      "Best gini < val gini  0.9792401528512638 0.9834656084656084\n",
      "Feature  feature_5\n",
      "Feature  feature_6\n",
      "Feature  feature_7\n",
      "Feature  feature_8\n",
      "Feature  feature_9\n"
     ]
    },
    {
     "name": "stderr",
     "output_type": "stream",
     "text": [
      " 20%|████████████████▌                                                                  | 2/10 [00:05<00:20,  2.61s/it]"
     ]
    }
   ],
   "source": [
    "s1, s2 = forward_selection(train,valid, train.columns[:-1], cat_features=[],target='target')"
   ]
  }
 ],
 "metadata": {
  "kernelspec": {
   "display_name": "payme",
   "language": "python",
   "name": "payme"
  },
  "language_info": {
   "codemirror_mode": {
    "name": "ipython",
    "version": 3
   },
   "file_extension": ".py",
   "mimetype": "text/x-python",
   "name": "python",
   "nbconvert_exporter": "python",
   "pygments_lexer": "ipython3",
   "version": "3.11.4"
  }
 },
 "nbformat": 4,
 "nbformat_minor": 5
}
