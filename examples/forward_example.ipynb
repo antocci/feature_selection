{
 "cells": [
  {
   "cell_type": "code",
   "execution_count": 1,
   "id": "29763e01-039d-4f3e-b7b6-032e4bd3667c",
   "metadata": {},
   "outputs": [],
   "source": [
    "import pandas as pd\n",
    "from IPython.core.display_functions import display\n",
    "from catboost import CatBoostClassifier\n",
    "from matplotlib import pyplot as plt\n",
    "from sklearn import clone\n",
    "from sklearn.metrics import roc_auc_score\n",
    "from tqdm import tqdm\n",
    "import seaborn as sns\n",
    "from sklearn.datasets import make_classification\n",
    "from sklearn.model_selection import train_test_split"
   ]
  },
  {
   "cell_type": "code",
   "execution_count": 2,
   "id": "8470cd08-280c-4e78-97b6-3a6d36b724bd",
   "metadata": {},
   "outputs": [],
   "source": [
    "# Create a synthetic dataset\n",
    "X, y = make_classification(\n",
    "    n_samples=1000,  # Number of samples\n",
    "    n_features=10,    # Number of features\n",
    "    n_informative=2, # Number of informative features\n",
    "    n_classes=2,     # Number of classes (binary classification)\n",
    "    n_clusters_per_class=1,  # Number of clusters per class\n",
    "    random_state=42  # Seed for reproducibility\n",
    ")\n",
    "\n",
    "# Create a DataFrame with feature names\n",
    "feature_names = [f\"feature_{i}\" for i in range(X.shape[1])]\n",
    "df = pd.DataFrame(X, columns=feature_names)\n",
    "\n",
    "# Add the target variable to the DataFrame\n",
    "df['target'] = y\n"
   ]
  },
  {
   "cell_type": "code",
   "execution_count": 3,
   "id": "bca2be1c-2340-401b-9b3a-239833fa6659",
   "metadata": {},
   "outputs": [
    {
     "data": {
      "text/html": [
       "<div>\n",
       "<style scoped>\n",
       "    .dataframe tbody tr th:only-of-type {\n",
       "        vertical-align: middle;\n",
       "    }\n",
       "\n",
       "    .dataframe tbody tr th {\n",
       "        vertical-align: top;\n",
       "    }\n",
       "\n",
       "    .dataframe thead th {\n",
       "        text-align: right;\n",
       "    }\n",
       "</style>\n",
       "<table border=\"1\" class=\"dataframe\">\n",
       "  <thead>\n",
       "    <tr style=\"text-align: right;\">\n",
       "      <th></th>\n",
       "      <th>feature_0</th>\n",
       "      <th>feature_1</th>\n",
       "      <th>feature_2</th>\n",
       "      <th>feature_3</th>\n",
       "      <th>feature_4</th>\n",
       "      <th>feature_5</th>\n",
       "      <th>feature_6</th>\n",
       "      <th>feature_7</th>\n",
       "      <th>feature_8</th>\n",
       "      <th>feature_9</th>\n",
       "      <th>target</th>\n",
       "    </tr>\n",
       "  </thead>\n",
       "  <tbody>\n",
       "    <tr>\n",
       "      <th>0</th>\n",
       "      <td>1.376053</td>\n",
       "      <td>-1.607661</td>\n",
       "      <td>-0.835143</td>\n",
       "      <td>-0.319848</td>\n",
       "      <td>-0.936875</td>\n",
       "      <td>1.603393</td>\n",
       "      <td>0.568754</td>\n",
       "      <td>0.151758</td>\n",
       "      <td>0.184741</td>\n",
       "      <td>2.089539</td>\n",
       "      <td>0</td>\n",
       "    </tr>\n",
       "    <tr>\n",
       "      <th>1</th>\n",
       "      <td>-0.005795</td>\n",
       "      <td>1.671348</td>\n",
       "      <td>-0.176134</td>\n",
       "      <td>-0.893746</td>\n",
       "      <td>1.616256</td>\n",
       "      <td>-1.371212</td>\n",
       "      <td>-0.000382</td>\n",
       "      <td>-0.387965</td>\n",
       "      <td>-0.901376</td>\n",
       "      <td>-2.899514</td>\n",
       "      <td>1</td>\n",
       "    </tr>\n",
       "  </tbody>\n",
       "</table>\n",
       "</div>"
      ],
      "text/plain": [
       "   feature_0  feature_1  feature_2  feature_3  feature_4  feature_5  \\\n",
       "0   1.376053  -1.607661  -0.835143  -0.319848  -0.936875   1.603393   \n",
       "1  -0.005795   1.671348  -0.176134  -0.893746   1.616256  -1.371212   \n",
       "\n",
       "   feature_6  feature_7  feature_8  feature_9  target  \n",
       "0   0.568754   0.151758   0.184741   2.089539       0  \n",
       "1  -0.000382  -0.387965  -0.901376  -2.899514       1  "
      ]
     },
     "execution_count": 3,
     "metadata": {},
     "output_type": "execute_result"
    }
   ],
   "source": [
    "df.head(2)"
   ]
  },
  {
   "cell_type": "code",
   "execution_count": 4,
   "id": "4464ffd2-330b-4ab9-a88c-45c860b25aa8",
   "metadata": {},
   "outputs": [],
   "source": [
    "train, valid = train_test_split(df, test_size=0.33, random_state=42)"
   ]
  },
  {
   "cell_type": "code",
   "execution_count": 15,
   "id": "c0db57d3-ee05-4e5e-ac02-6d01ffd50d45",
   "metadata": {},
   "outputs": [],
   "source": [
    "def forward_selection(train, valid, features, cat_features, target):\n",
    "    stats = []\n",
    "\n",
    "    picked_features = []\n",
    "    best_ginis = []\n",
    "    # forward selection\n",
    "    for iteration in tqdm(range(len(features))):\n",
    "        # print('Iteration number', iteration)\n",
    "        best_gini = None\n",
    "        best_feature = None\n",
    "        stat = {'iteration': iteration}\n",
    "        for col in features:\n",
    "            if col in picked_features:\n",
    "                continue\n",
    "\n",
    "            X_train = train[list(picked_features) + [col]]\n",
    "            X_valid = valid[list(picked_features) + [col]]\n",
    "\n",
    "            model = CatBoostClassifier(verbose=0, eval_metric='AUC', early_stopping_rounds=60, random_state=42,\n",
    "                                       cat_features=list(set(cat_features) & set(X_train.columns)))\n",
    "            model.fit(X_train, train[target], eval_set=(X_valid, valid[target]))\n",
    "            valid_preds = model.predict_proba(X_valid)[:, 1]\n",
    "            valid_gini = 2 * roc_auc_score(valid[target], valid_preds) - 1\n",
    "\n",
    "            stat[col] = valid_gini\n",
    "\n",
    "            if best_gini is None or best_gini < valid_gini:\n",
    "                best_gini = valid_gini\n",
    "                best_feature = col\n",
    "\n",
    "        stats.append(stat)\n",
    "\n",
    "        if best_gini:\n",
    "            picked_features.append(best_feature)\n",
    "            best_ginis.append(best_gini)\n",
    "            print('Picked feature:', best_feature)\n",
    "\n",
    "    stat_2 = pd.DataFrame(stats).T\n",
    "    stat_2['cnt_nans'] = stat_2.isna().sum(axis=1).values\n",
    "    stat_2 = stat_2.sort_values('cnt_nans', ascending=False).drop(columns=['cnt_nans'], index=['iteration'])\n",
    "\n",
    "    display((stat_2 * 100).round(1))\n",
    "\n",
    "    stat_1 = pd.DataFrame({'names': picked_features, 'ginis': best_ginis})\n",
    "\n",
    "    plt.figure(figsize=(16, 9))\n",
    "    sns.lineplot(data=stat_1, x='names', y='ginis')\n",
    "    plt.xticks(rotation=90)\n",
    "    plt.show()\n",
    "\n",
    "    num_features = stat_1['ginis'].argmax() + 1\n",
    "    best_gini = stat_1['ginis'].max()\n",
    "    features_to_eliminate = stat_1['names'].iloc[num_features:]\n",
    "    best_features = sorted(set(features) - set(features_to_eliminate))\n",
    "\n",
    "    print('---' * 5, 'info', '---' * 5, sep='')\n",
    "    print('Best ginis:', best_gini)\n",
    "    print('Num features:', len(best_features))\n",
    "    print('Best features:', ' '.join(best_features))\n",
    "    print('---' * 12)\n",
    "\n",
    "\n",
    "    return stat_1, stat_2\n"
   ]
  },
  {
   "cell_type": "code",
   "execution_count": 16,
   "id": "41bfef48-6435-4660-9cd1-eb6d75366280",
   "metadata": {},
   "outputs": [
    {
     "name": "stderr",
     "output_type": "stream",
     "text": [
      " 10%|█         | 1/10 [00:00<00:05,  1.77it/s]"
     ]
    },
    {
     "name": "stdout",
     "output_type": "stream",
     "text": [
      "Picked feature: feature_5\n"
     ]
    },
    {
     "name": "stderr",
     "output_type": "stream",
     "text": [
      " 20%|██        | 2/10 [00:01<00:05,  1.47it/s]"
     ]
    },
    {
     "name": "stdout",
     "output_type": "stream",
     "text": [
      "Picked feature: feature_4\n"
     ]
    },
    {
     "name": "stderr",
     "output_type": "stream",
     "text": [
      " 30%|███       | 3/10 [00:01<00:04,  1.68it/s]"
     ]
    },
    {
     "name": "stdout",
     "output_type": "stream",
     "text": [
      "Picked feature: feature_8\n"
     ]
    },
    {
     "name": "stderr",
     "output_type": "stream",
     "text": [
      " 40%|████      | 4/10 [00:02<00:03,  1.64it/s]"
     ]
    },
    {
     "name": "stdout",
     "output_type": "stream",
     "text": [
      "Picked feature: feature_0\n"
     ]
    },
    {
     "name": "stderr",
     "output_type": "stream",
     "text": [
      " 50%|█████     | 5/10 [00:02<00:02,  1.99it/s]"
     ]
    },
    {
     "name": "stdout",
     "output_type": "stream",
     "text": [
      "Picked feature: feature_2\n"
     ]
    },
    {
     "name": "stderr",
     "output_type": "stream",
     "text": [
      " 60%|██████    | 6/10 [00:03<00:02,  1.99it/s]"
     ]
    },
    {
     "name": "stdout",
     "output_type": "stream",
     "text": [
      "Picked feature: feature_9\n"
     ]
    },
    {
     "name": "stderr",
     "output_type": "stream",
     "text": [
      " 70%|███████   | 7/10 [00:03<00:01,  2.17it/s]"
     ]
    },
    {
     "name": "stdout",
     "output_type": "stream",
     "text": [
      "Picked feature: feature_3\n"
     ]
    },
    {
     "name": "stderr",
     "output_type": "stream",
     "text": [
      " 80%|████████  | 8/10 [00:04<00:00,  2.29it/s]"
     ]
    },
    {
     "name": "stdout",
     "output_type": "stream",
     "text": [
      "Picked feature: feature_7\n"
     ]
    },
    {
     "name": "stderr",
     "output_type": "stream",
     "text": [
      "100%|██████████| 10/10 [00:04<00:00,  2.28it/s]"
     ]
    },
    {
     "name": "stdout",
     "output_type": "stream",
     "text": [
      "Picked feature: feature_6\n",
      "Picked feature: feature_1\n"
     ]
    },
    {
     "name": "stderr",
     "output_type": "stream",
     "text": [
      "\n"
     ]
    },
    {
     "data": {
      "text/html": [
       "<div>\n",
       "<style scoped>\n",
       "    .dataframe tbody tr th:only-of-type {\n",
       "        vertical-align: middle;\n",
       "    }\n",
       "\n",
       "    .dataframe tbody tr th {\n",
       "        vertical-align: top;\n",
       "    }\n",
       "\n",
       "    .dataframe thead th {\n",
       "        text-align: right;\n",
       "    }\n",
       "</style>\n",
       "<table border=\"1\" class=\"dataframe\">\n",
       "  <thead>\n",
       "    <tr style=\"text-align: right;\">\n",
       "      <th></th>\n",
       "      <th>0</th>\n",
       "      <th>1</th>\n",
       "      <th>2</th>\n",
       "      <th>3</th>\n",
       "      <th>4</th>\n",
       "      <th>5</th>\n",
       "      <th>6</th>\n",
       "      <th>7</th>\n",
       "      <th>8</th>\n",
       "      <th>9</th>\n",
       "    </tr>\n",
       "  </thead>\n",
       "  <tbody>\n",
       "    <tr>\n",
       "      <th>feature_5</th>\n",
       "      <td>93.3</td>\n",
       "      <td>NaN</td>\n",
       "      <td>NaN</td>\n",
       "      <td>NaN</td>\n",
       "      <td>NaN</td>\n",
       "      <td>NaN</td>\n",
       "      <td>NaN</td>\n",
       "      <td>NaN</td>\n",
       "      <td>NaN</td>\n",
       "      <td>NaN</td>\n",
       "    </tr>\n",
       "    <tr>\n",
       "      <th>feature_4</th>\n",
       "      <td>93.0</td>\n",
       "      <td>98.3</td>\n",
       "      <td>NaN</td>\n",
       "      <td>NaN</td>\n",
       "      <td>NaN</td>\n",
       "      <td>NaN</td>\n",
       "      <td>NaN</td>\n",
       "      <td>NaN</td>\n",
       "      <td>NaN</td>\n",
       "      <td>NaN</td>\n",
       "    </tr>\n",
       "    <tr>\n",
       "      <th>feature_8</th>\n",
       "      <td>15.8</td>\n",
       "      <td>92.4</td>\n",
       "      <td>98.6</td>\n",
       "      <td>NaN</td>\n",
       "      <td>NaN</td>\n",
       "      <td>NaN</td>\n",
       "      <td>NaN</td>\n",
       "      <td>NaN</td>\n",
       "      <td>NaN</td>\n",
       "      <td>NaN</td>\n",
       "    </tr>\n",
       "    <tr>\n",
       "      <th>feature_0</th>\n",
       "      <td>15.3</td>\n",
       "      <td>97.9</td>\n",
       "      <td>98.5</td>\n",
       "      <td>98.5</td>\n",
       "      <td>NaN</td>\n",
       "      <td>NaN</td>\n",
       "      <td>NaN</td>\n",
       "      <td>NaN</td>\n",
       "      <td>NaN</td>\n",
       "      <td>NaN</td>\n",
       "    </tr>\n",
       "    <tr>\n",
       "      <th>feature_2</th>\n",
       "      <td>4.2</td>\n",
       "      <td>93.9</td>\n",
       "      <td>98.5</td>\n",
       "      <td>98.4</td>\n",
       "      <td>98.4</td>\n",
       "      <td>NaN</td>\n",
       "      <td>NaN</td>\n",
       "      <td>NaN</td>\n",
       "      <td>NaN</td>\n",
       "      <td>NaN</td>\n",
       "    </tr>\n",
       "    <tr>\n",
       "      <th>feature_9</th>\n",
       "      <td>14.2</td>\n",
       "      <td>91.8</td>\n",
       "      <td>98.4</td>\n",
       "      <td>98.4</td>\n",
       "      <td>98.3</td>\n",
       "      <td>98.4</td>\n",
       "      <td>NaN</td>\n",
       "      <td>NaN</td>\n",
       "      <td>NaN</td>\n",
       "      <td>NaN</td>\n",
       "    </tr>\n",
       "    <tr>\n",
       "      <th>feature_3</th>\n",
       "      <td>7.1</td>\n",
       "      <td>92.5</td>\n",
       "      <td>98.4</td>\n",
       "      <td>98.2</td>\n",
       "      <td>98.4</td>\n",
       "      <td>98.2</td>\n",
       "      <td>98.5</td>\n",
       "      <td>NaN</td>\n",
       "      <td>NaN</td>\n",
       "      <td>NaN</td>\n",
       "    </tr>\n",
       "    <tr>\n",
       "      <th>feature_7</th>\n",
       "      <td>12.2</td>\n",
       "      <td>92.6</td>\n",
       "      <td>98.5</td>\n",
       "      <td>98.4</td>\n",
       "      <td>98.3</td>\n",
       "      <td>98.3</td>\n",
       "      <td>98.3</td>\n",
       "      <td>98.4</td>\n",
       "      <td>NaN</td>\n",
       "      <td>NaN</td>\n",
       "    </tr>\n",
       "    <tr>\n",
       "      <th>feature_6</th>\n",
       "      <td>17.8</td>\n",
       "      <td>97.9</td>\n",
       "      <td>98.5</td>\n",
       "      <td>98.5</td>\n",
       "      <td>98.0</td>\n",
       "      <td>98.1</td>\n",
       "      <td>98.2</td>\n",
       "      <td>98.1</td>\n",
       "      <td>98.1</td>\n",
       "      <td>NaN</td>\n",
       "    </tr>\n",
       "    <tr>\n",
       "      <th>feature_1</th>\n",
       "      <td>2.5</td>\n",
       "      <td>91.9</td>\n",
       "      <td>98.3</td>\n",
       "      <td>98.2</td>\n",
       "      <td>98.3</td>\n",
       "      <td>98.4</td>\n",
       "      <td>97.9</td>\n",
       "      <td>98.3</td>\n",
       "      <td>98.1</td>\n",
       "      <td>98.4</td>\n",
       "    </tr>\n",
       "  </tbody>\n",
       "</table>\n",
       "</div>"
      ],
      "text/plain": [
       "              0     1     2     3     4     5     6     7     8     9\n",
       "feature_5  93.3   NaN   NaN   NaN   NaN   NaN   NaN   NaN   NaN   NaN\n",
       "feature_4  93.0  98.3   NaN   NaN   NaN   NaN   NaN   NaN   NaN   NaN\n",
       "feature_8  15.8  92.4  98.6   NaN   NaN   NaN   NaN   NaN   NaN   NaN\n",
       "feature_0  15.3  97.9  98.5  98.5   NaN   NaN   NaN   NaN   NaN   NaN\n",
       "feature_2   4.2  93.9  98.5  98.4  98.4   NaN   NaN   NaN   NaN   NaN\n",
       "feature_9  14.2  91.8  98.4  98.4  98.3  98.4   NaN   NaN   NaN   NaN\n",
       "feature_3   7.1  92.5  98.4  98.2  98.4  98.2  98.5   NaN   NaN   NaN\n",
       "feature_7  12.2  92.6  98.5  98.4  98.3  98.3  98.3  98.4   NaN   NaN\n",
       "feature_6  17.8  97.9  98.5  98.5  98.0  98.1  98.2  98.1  98.1   NaN\n",
       "feature_1   2.5  91.9  98.3  98.2  98.3  98.4  97.9  98.3  98.1  98.4"
      ]
     },
     "metadata": {},
     "output_type": "display_data"
    },
    {
     "data": {
      "image/png": "[encoded data removed]",
      "text/plain": [
       "<Figure size 1600x900 with 1 Axes>"
      ]
     },
     "metadata": {},
     "output_type": "display_data"
    },
    {
     "name": "stdout",
     "output_type": "stream",
     "text": [
      "---------------info---------------\n",
      "Best ginis: 0.9857436801881247\n",
      "Num features: 3\n",
      "Best features: feature_4 feature_5 feature_8\n",
      "------------------------------------\n"
     ]
    }
   ],
   "source": [
    "s1, s2 = forward_selection(train,valid, train.columns[:-1], cat_features=[],target='target')"
   ]
  }
 ],
 "metadata": {
  "kernelspec": {
   "display_name": "payme",
   "language": "python",
   "name": "python3"
  },
  "language_info": {
   "codemirror_mode": {
    "name": "ipython",
    "version": 3
   },
   "file_extension": ".py",
   "mimetype": "text/x-python",
   "name": "python",
   "nbconvert_exporter": "python",
   "pygments_lexer": "ipython3",
   "version": "3.11.5"
  }
 },
 "nbformat": 4,
 "nbformat_minor": 5
}
