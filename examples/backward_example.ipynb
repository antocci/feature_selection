{
 "cells": [
  {
   "cell_type": "code",
   "execution_count": 22,
   "id": "fb019135-248e-45e5-b10b-0d93680b442c",
   "metadata": {},
   "outputs": [],
   "source": [
    "import pandas as pd\n",
    "from IPython.core.display_functions import display\n",
    "from catboost import CatBoostClassifier\n",
    "from matplotlib import pyplot as plt\n",
    "from sklearn import clone\n",
    "from sklearn.metrics import roc_auc_score\n",
    "from sklearn.datasets import make_classification\n",
    "from sklearn.model_selection import train_test_split\n",
    "from tqdm import tqdm\n",
    "import seaborn as sns"
   ]
  },
  {
   "cell_type": "code",
   "execution_count": 23,
   "id": "af7b5b99-bd3f-4f4e-b3a6-740a21e5167b",
   "metadata": {},
   "outputs": [],
   "source": [
    "# Create a synthetic dataset\n",
    "X, y = make_classification(\n",
    "    n_samples=1000,  # Number of samples\n",
    "    n_features=10,    # Number of features\n",
    "    n_informative=2, # Number of informative features\n",
    "    n_classes=2,     # Number of classes (binary classification)\n",
    "    n_clusters_per_class=1,  # Number of clusters per class\n",
    "    random_state=42  # Seed for reproducibility\n",
    ")\n",
    "\n",
    "# Create a DataFrame with feature names\n",
    "feature_names = [f\"feature_{i}\" for i in range(X.shape[1])]\n",
    "df = pd.DataFrame(X, columns=feature_names)\n",
    "\n",
    "# Add the target variable to the DataFrame\n",
    "df['target'] = y\n"
   ]
  },
  {
   "cell_type": "code",
   "execution_count": 24,
   "id": "39a55c41-a9da-408f-a3a5-8c3157c24ad4",
   "metadata": {},
   "outputs": [
    {
     "data": {
      "text/html": [
       "<div>\n",
       "<style scoped>\n",
       "    .dataframe tbody tr th:only-of-type {\n",
       "        vertical-align: middle;\n",
       "    }\n",
       "\n",
       "    .dataframe tbody tr th {\n",
       "        vertical-align: top;\n",
       "    }\n",
       "\n",
       "    .dataframe thead th {\n",
       "        text-align: right;\n",
       "    }\n",
       "</style>\n",
       "<table border=\"1\" class=\"dataframe\">\n",
       "  <thead>\n",
       "    <tr style=\"text-align: right;\">\n",
       "      <th></th>\n",
       "      <th>feature_0</th>\n",
       "      <th>feature_1</th>\n",
       "      <th>feature_2</th>\n",
       "      <th>feature_3</th>\n",
       "      <th>feature_4</th>\n",
       "      <th>feature_5</th>\n",
       "      <th>feature_6</th>\n",
       "      <th>feature_7</th>\n",
       "      <th>feature_8</th>\n",
       "      <th>feature_9</th>\n",
       "      <th>target</th>\n",
       "    </tr>\n",
       "  </thead>\n",
       "  <tbody>\n",
       "    <tr>\n",
       "      <th>0</th>\n",
       "      <td>1.376053</td>\n",
       "      <td>-1.607661</td>\n",
       "      <td>-0.835143</td>\n",
       "      <td>-0.319848</td>\n",
       "      <td>-0.936875</td>\n",
       "      <td>1.603393</td>\n",
       "      <td>0.568754</td>\n",
       "      <td>0.151758</td>\n",
       "      <td>0.184741</td>\n",
       "      <td>2.089539</td>\n",
       "      <td>0</td>\n",
       "    </tr>\n",
       "    <tr>\n",
       "      <th>1</th>\n",
       "      <td>-0.005795</td>\n",
       "      <td>1.671348</td>\n",
       "      <td>-0.176134</td>\n",
       "      <td>-0.893746</td>\n",
       "      <td>1.616256</td>\n",
       "      <td>-1.371212</td>\n",
       "      <td>-0.000382</td>\n",
       "      <td>-0.387965</td>\n",
       "      <td>-0.901376</td>\n",
       "      <td>-2.899514</td>\n",
       "      <td>1</td>\n",
       "    </tr>\n",
       "  </tbody>\n",
       "</table>\n",
       "</div>"
      ],
      "text/plain": [
       "   feature_0  feature_1  feature_2  feature_3  feature_4  feature_5  \\\n",
       "0   1.376053  -1.607661  -0.835143  -0.319848  -0.936875   1.603393   \n",
       "1  -0.005795   1.671348  -0.176134  -0.893746   1.616256  -1.371212   \n",
       "\n",
       "   feature_6  feature_7  feature_8  feature_9  target  \n",
       "0   0.568754   0.151758   0.184741   2.089539       0  \n",
       "1  -0.000382  -0.387965  -0.901376  -2.899514       1  "
      ]
     },
     "execution_count": 24,
     "metadata": {},
     "output_type": "execute_result"
    }
   ],
   "source": [
    "df.head(2)"
   ]
  },
  {
   "cell_type": "code",
   "execution_count": 25,
   "id": "5af11cc2-5a8c-4658-8816-dc824fefcbf2",
   "metadata": {},
   "outputs": [],
   "source": [
    "train, valid = train_test_split(df, test_size=0.33, random_state=42)"
   ]
  },
  {
   "cell_type": "code",
   "execution_count": 27,
   "id": "0cf37a10-1202-4d2f-998d-2a0e4ea986e4",
   "metadata": {},
   "outputs": [],
   "source": [
    "def backward_elimination(train, valid, features, cat_features, target):\n",
    "    stats = []\n",
    "\n",
    "    eliminated_features = []\n",
    "    best_ginis = []\n",
    "    # backward elimination\n",
    "    for iteration in tqdm(range(len(features) - 1)):\n",
    "        print('Iteration number', iteration)\n",
    "        best_gini = None\n",
    "        worst_feature = None\n",
    "        stat = {'iteration': iteration}\n",
    "        for col in features:\n",
    "            if col in eliminated_features:\n",
    "                continue\n",
    "\n",
    "            X_train = train[sorted(set(features) - set(eliminated_features + [col]))]\n",
    "            X_valid = valid[sorted(set(features) - set(eliminated_features + [col]))]\n",
    "\n",
    "            model = CatBoostClassifier(verbose=0, eval_metric='AUC', early_stopping_rounds=60, random_state=42,\n",
    "                                       cat_features=list(set(cat_features) & set(X_train.columns)))\n",
    "            model.fit(X_train, train[target])\n",
    "            valid_preds = model.predict_proba(X_valid)[:, 1]\n",
    "            valid_gini = 2 * roc_auc_score(valid[target], valid_preds) - 1\n",
    "\n",
    "            stat[col] = valid_gini\n",
    "\n",
    "            if best_gini is None or best_gini < valid_gini:\n",
    "                best_gini = valid_gini\n",
    "                worst_feature = col\n",
    "\n",
    "        stats.append(stat)\n",
    "\n",
    "        if best_gini:\n",
    "            eliminated_features.append(worst_feature)\n",
    "            best_ginis.append(best_gini)\n",
    "            print('Features to eliminate:')\n",
    "            print(eliminated_features)\n",
    "            print(best_gini)\n",
    "            print('*'*10)\n",
    "    stat_2 = pd.DataFrame(stats).T\n",
    "    stat_2['cnt_nans'] = stat_2.isna().sum(axis=1).values\n",
    "\n",
    "    stat_2 = stat_2.sort_values('cnt_nans', ascending=False).drop(columns=['cnt_nans'], index=['iteration'])\n",
    "    display((stat_2 * 100).round(1))\n",
    "\n",
    "    stat_1 = pd.DataFrame({'names': eliminated_features[::-1], 'ginis': best_ginis[::-1]})\n",
    "\n",
    "    plt.figure(figsize=(16, 9))\n",
    "    sns.lineplot(data=stat_1[::-1], x='names', y='ginis')\n",
    "    plt.xticks(rotation=90)\n",
    "    plt.show()\n",
    "\n",
    "    num_features = stat_1['ginis'].argmax()\n",
    "    best_gini = stat_1['ginis'].max()\n",
    "\n",
    "    features_to_eliminate = stat_1['names'].iloc[num_features:]\n",
    "\n",
    "    best_features = sorted(set(features) - set(features_to_eliminate))\n",
    "\n",
    "    print('---' * 5, 'info', '---' * 5, sep='')\n",
    "    print('Best ginis:', best_gini)\n",
    "    print('Num features:', len(best_features))\n",
    "    print('Best features:', ' '.join(best_features))\n",
    "    print('---' * 12)\n",
    "\n",
    "\n",
    "    return stat_1, stat_2"
   ]
  },
  {
   "cell_type": "code",
   "execution_count": 28,
   "id": "b262ad85-44bf-46d2-906b-2c06ad442764",
   "metadata": {},
   "outputs": [
    {
     "name": "stderr",
     "output_type": "stream",
     "text": [
      "  0%|          | 0/9 [00:00<?, ?it/s]"
     ]
    },
    {
     "name": "stdout",
     "output_type": "stream",
     "text": [
      "Iteration number 0\n"
     ]
    },
    {
     "name": "stderr",
     "output_type": "stream",
     "text": [
      " 11%|█         | 1/9 [00:08<01:11,  8.88s/it]"
     ]
    },
    {
     "name": "stdout",
     "output_type": "stream",
     "text": [
      "Features to eliminate:\n",
      "['feature_8']\n",
      "0.9803791887125219\n",
      "**********\n",
      "Iteration number 1\n"
     ]
    },
    {
     "name": "stderr",
     "output_type": "stream",
     "text": [
      " 22%|██▏       | 2/9 [00:16<00:57,  8.19s/it]"
     ]
    },
    {
     "name": "stdout",
     "output_type": "stream",
     "text": [
      "Features to eliminate:\n",
      "['feature_8', 'feature_1']\n",
      "0.9822163433274547\n",
      "**********\n",
      "Iteration number 2\n"
     ]
    },
    {
     "name": "stderr",
     "output_type": "stream",
     "text": [
      " 33%|███▎      | 3/9 [00:23<00:45,  7.55s/it]"
     ]
    },
    {
     "name": "stdout",
     "output_type": "stream",
     "text": [
      "Features to eliminate:\n",
      "['feature_8', 'feature_1', 'feature_9']\n",
      "0.9829512051734275\n",
      "**********\n",
      "Iteration number 3\n"
     ]
    },
    {
     "name": "stderr",
     "output_type": "stream",
     "text": [
      " 44%|████▍     | 4/9 [00:28<00:33,  6.69s/it]"
     ]
    },
    {
     "name": "stdout",
     "output_type": "stream",
     "text": [
      "Features to eliminate:\n",
      "['feature_8', 'feature_1', 'feature_9', 'feature_3']\n",
      "0.9836125808348029\n",
      "**********\n",
      "Iteration number 4\n"
     ]
    },
    {
     "name": "stderr",
     "output_type": "stream",
     "text": [
      " 56%|█████▌    | 5/9 [00:33<00:23,  5.82s/it]"
     ]
    },
    {
     "name": "stdout",
     "output_type": "stream",
     "text": [
      "Features to eliminate:\n",
      "['feature_8', 'feature_1', 'feature_9', 'feature_3', 'feature_7']\n",
      "0.9837595532039978\n",
      "**********\n",
      "Iteration number 5\n"
     ]
    },
    {
     "name": "stderr",
     "output_type": "stream",
     "text": [
      " 67%|██████▋   | 6/9 [00:36<00:14,  4.99s/it]"
     ]
    },
    {
     "name": "stdout",
     "output_type": "stream",
     "text": [
      "Features to eliminate:\n",
      "['feature_8', 'feature_1', 'feature_9', 'feature_3', 'feature_7', 'feature_0']\n",
      "0.983833039388595\n",
      "**********\n",
      "Iteration number 6\n"
     ]
    },
    {
     "name": "stderr",
     "output_type": "stream",
     "text": [
      " 78%|███████▊  | 7/9 [00:38<00:08,  4.20s/it]"
     ]
    },
    {
     "name": "stdout",
     "output_type": "stream",
     "text": [
      "Features to eliminate:\n",
      "['feature_8', 'feature_1', 'feature_9', 'feature_3', 'feature_7', 'feature_0', 'feature_6']\n",
      "0.9828042328042328\n",
      "**********\n",
      "Iteration number 7\n"
     ]
    },
    {
     "name": "stderr",
     "output_type": "stream",
     "text": [
      " 89%|████████▉ | 8/9 [00:40<00:03,  3.38s/it]"
     ]
    },
    {
     "name": "stdout",
     "output_type": "stream",
     "text": [
      "Features to eliminate:\n",
      "['feature_8', 'feature_1', 'feature_9', 'feature_3', 'feature_7', 'feature_0', 'feature_6', 'feature_2']\n",
      "0.983906525573192\n",
      "**********\n",
      "Iteration number 8\n"
     ]
    },
    {
     "name": "stderr",
     "output_type": "stream",
     "text": [
      "100%|██████████| 9/9 [00:41<00:00,  4.60s/it]"
     ]
    },
    {
     "name": "stdout",
     "output_type": "stream",
     "text": [
      "Features to eliminate:\n",
      "['feature_8', 'feature_1', 'feature_9', 'feature_3', 'feature_7', 'feature_0', 'feature_6', 'feature_2', 'feature_5']\n",
      "0.9187610229276897\n",
      "**********\n"
     ]
    },
    {
     "name": "stderr",
     "output_type": "stream",
     "text": [
      "\n"
     ]
    },
    {
     "data": {
      "text/html": [
       "<div>\n",
       "<style scoped>\n",
       "    .dataframe tbody tr th:only-of-type {\n",
       "        vertical-align: middle;\n",
       "    }\n",
       "\n",
       "    .dataframe tbody tr th {\n",
       "        vertical-align: top;\n",
       "    }\n",
       "\n",
       "    .dataframe thead th {\n",
       "        text-align: right;\n",
       "    }\n",
       "</style>\n",
       "<table border=\"1\" class=\"dataframe\">\n",
       "  <thead>\n",
       "    <tr style=\"text-align: right;\">\n",
       "      <th></th>\n",
       "      <th>0</th>\n",
       "      <th>1</th>\n",
       "      <th>2</th>\n",
       "      <th>3</th>\n",
       "      <th>4</th>\n",
       "      <th>5</th>\n",
       "      <th>6</th>\n",
       "      <th>7</th>\n",
       "      <th>8</th>\n",
       "    </tr>\n",
       "  </thead>\n",
       "  <tbody>\n",
       "    <tr>\n",
       "      <th>feature_8</th>\n",
       "      <td>98.0</td>\n",
       "      <td>NaN</td>\n",
       "      <td>NaN</td>\n",
       "      <td>NaN</td>\n",
       "      <td>NaN</td>\n",
       "      <td>NaN</td>\n",
       "      <td>NaN</td>\n",
       "      <td>NaN</td>\n",
       "      <td>NaN</td>\n",
       "    </tr>\n",
       "    <tr>\n",
       "      <th>feature_1</th>\n",
       "      <td>97.8</td>\n",
       "      <td>98.2</td>\n",
       "      <td>NaN</td>\n",
       "      <td>NaN</td>\n",
       "      <td>NaN</td>\n",
       "      <td>NaN</td>\n",
       "      <td>NaN</td>\n",
       "      <td>NaN</td>\n",
       "      <td>NaN</td>\n",
       "    </tr>\n",
       "    <tr>\n",
       "      <th>feature_9</th>\n",
       "      <td>97.9</td>\n",
       "      <td>98.1</td>\n",
       "      <td>98.3</td>\n",
       "      <td>NaN</td>\n",
       "      <td>NaN</td>\n",
       "      <td>NaN</td>\n",
       "      <td>NaN</td>\n",
       "      <td>NaN</td>\n",
       "      <td>NaN</td>\n",
       "    </tr>\n",
       "    <tr>\n",
       "      <th>feature_3</th>\n",
       "      <td>97.7</td>\n",
       "      <td>98.1</td>\n",
       "      <td>98.3</td>\n",
       "      <td>98.4</td>\n",
       "      <td>NaN</td>\n",
       "      <td>NaN</td>\n",
       "      <td>NaN</td>\n",
       "      <td>NaN</td>\n",
       "      <td>NaN</td>\n",
       "    </tr>\n",
       "    <tr>\n",
       "      <th>feature_7</th>\n",
       "      <td>97.6</td>\n",
       "      <td>97.7</td>\n",
       "      <td>97.9</td>\n",
       "      <td>98.1</td>\n",
       "      <td>98.4</td>\n",
       "      <td>NaN</td>\n",
       "      <td>NaN</td>\n",
       "      <td>NaN</td>\n",
       "      <td>NaN</td>\n",
       "    </tr>\n",
       "    <tr>\n",
       "      <th>feature_0</th>\n",
       "      <td>97.8</td>\n",
       "      <td>98.0</td>\n",
       "      <td>98.3</td>\n",
       "      <td>98.3</td>\n",
       "      <td>98.3</td>\n",
       "      <td>98.4</td>\n",
       "      <td>NaN</td>\n",
       "      <td>NaN</td>\n",
       "      <td>NaN</td>\n",
       "    </tr>\n",
       "    <tr>\n",
       "      <th>feature_6</th>\n",
       "      <td>97.9</td>\n",
       "      <td>98.1</td>\n",
       "      <td>98.2</td>\n",
       "      <td>98.2</td>\n",
       "      <td>98.4</td>\n",
       "      <td>98.3</td>\n",
       "      <td>98.3</td>\n",
       "      <td>NaN</td>\n",
       "      <td>NaN</td>\n",
       "    </tr>\n",
       "    <tr>\n",
       "      <th>feature_2</th>\n",
       "      <td>97.6</td>\n",
       "      <td>97.9</td>\n",
       "      <td>98.0</td>\n",
       "      <td>98.2</td>\n",
       "      <td>98.2</td>\n",
       "      <td>98.2</td>\n",
       "      <td>98.2</td>\n",
       "      <td>98.4</td>\n",
       "      <td>NaN</td>\n",
       "    </tr>\n",
       "    <tr>\n",
       "      <th>feature_4</th>\n",
       "      <td>97.3</td>\n",
       "      <td>97.6</td>\n",
       "      <td>97.6</td>\n",
       "      <td>97.8</td>\n",
       "      <td>98.0</td>\n",
       "      <td>98.1</td>\n",
       "      <td>98.2</td>\n",
       "      <td>92.8</td>\n",
       "      <td>91.2</td>\n",
       "    </tr>\n",
       "    <tr>\n",
       "      <th>feature_5</th>\n",
       "      <td>97.5</td>\n",
       "      <td>97.7</td>\n",
       "      <td>98.2</td>\n",
       "      <td>98.1</td>\n",
       "      <td>98.0</td>\n",
       "      <td>98.1</td>\n",
       "      <td>98.1</td>\n",
       "      <td>91.2</td>\n",
       "      <td>91.9</td>\n",
       "    </tr>\n",
       "  </tbody>\n",
       "</table>\n",
       "</div>"
      ],
      "text/plain": [
       "              0     1     2     3     4     5     6     7     8\n",
       "feature_8  98.0   NaN   NaN   NaN   NaN   NaN   NaN   NaN   NaN\n",
       "feature_1  97.8  98.2   NaN   NaN   NaN   NaN   NaN   NaN   NaN\n",
       "feature_9  97.9  98.1  98.3   NaN   NaN   NaN   NaN   NaN   NaN\n",
       "feature_3  97.7  98.1  98.3  98.4   NaN   NaN   NaN   NaN   NaN\n",
       "feature_7  97.6  97.7  97.9  98.1  98.4   NaN   NaN   NaN   NaN\n",
       "feature_0  97.8  98.0  98.3  98.3  98.3  98.4   NaN   NaN   NaN\n",
       "feature_6  97.9  98.1  98.2  98.2  98.4  98.3  98.3   NaN   NaN\n",
       "feature_2  97.6  97.9  98.0  98.2  98.2  98.2  98.2  98.4   NaN\n",
       "feature_4  97.3  97.6  97.6  97.8  98.0  98.1  98.2  92.8  91.2\n",
       "feature_5  97.5  97.7  98.2  98.1  98.0  98.1  98.1  91.2  91.9"
      ]
     },
     "metadata": {},
     "output_type": "display_data"
    },
    {
     "data": {
      "image/png": "[encoded data removed]",
      "text/plain": [
       "<Figure size 1600x900 with 1 Axes>"
      ]
     },
     "metadata": {},
     "output_type": "display_data"
    },
    {
     "name": "stdout",
     "output_type": "stream",
     "text": [
      "---------------info---------------\n",
      "Best ginis: 0.983906525573192\n",
      "Num features: 2\n",
      "Best features: feature_4 feature_5\n",
      "------------------------------------\n"
     ]
    }
   ],
   "source": [
    "s1,s2 = backward_elimination(train,valid, train.columns[:-1], cat_features=[],target='target')"
   ]
  }
 ],
 "metadata": {
  "kernelspec": {
   "display_name": "payme",
   "language": "python",
   "name": "python3"
  },
  "language_info": {
   "codemirror_mode": {
    "name": "ipython",
    "version": 3
   },
   "file_extension": ".py",
   "mimetype": "text/x-python",
   "name": "python",
   "nbconvert_exporter": "python",
   "pygments_lexer": "ipython3",
   "version": "3.11.5"
  }
 },
 "nbformat": 4,
 "nbformat_minor": 5
}
